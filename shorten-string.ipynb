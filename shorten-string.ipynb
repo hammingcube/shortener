{
 "cells": [
  {
   "cell_type": "markdown",
   "metadata": {},
   "source": [
    "# Algorithm\n",
    "\n",
    "The high level heuristic is that we try to truncate at the punctation mark \n",
    "closest to the ideal length boundary (defined by position \"m\" below). We either \n",
    "truncate to the left (position \"m-t\") of this boundary or to the right (postion \"m+t\"), \n",
    "depening on what leads to the length closest to the ideal length.\n",
    "\n",
    "Moreover, if there are no punctuation mark, we truncate on whitespace boundaries if possible.\n",
    "\n",
    "There are various things that can be tweaked, example, definition of punctuation and whitespace. But this is one straightforward implementation.\n"
   ]
  },
  {
   "cell_type": "code",
   "execution_count": 26,
   "metadata": {
    "collapsed": true
   },
   "outputs": [],
   "source": [
    "import string\n",
    "def shorten(s, min_len=80, ideal_len=100, max_len=200):\n",
    "    if len(s) < ideal_len:\n",
    "        return s\n",
    "    lb = max(min_len-1, 0)\n",
    "    ub = min(max_len-1, len(s)-1)\n",
    "    \n",
    "    for chars in [string.punctuation, string.whitespace]:\n",
    "        m, t = ideal_len - 1, 0\n",
    "        while m - t >= lb or m + t <= ub:\n",
    "            if m - t >= lb and s[m-t] in chars:\n",
    "                return s[:m-t+1]\n",
    "            if m + t <= ub and s[m+t] in chars:\n",
    "                return s[:m+t+1]\n",
    "            t += 1\n",
    "    return s[:ideal_len] # No punctuation/whitespace in s[min_len:max_len], might as well return an ideal_len string"
   ]
  },
  {
   "cell_type": "code",
   "execution_count": 27,
   "metadata": {
    "collapsed": false
   },
   "outputs": [
    {
     "name": "stdout",
     "output_type": "stream",
     "text": [
      "Output: \"This is shorter than ideal length.\"\n",
      "len(output) = ideal_len - 16\n",
      "Output: \"This is shorter than ideal length. Should I also include this line?\"\n",
      "len(output) = ideal_len + 16\n"
     ]
    }
   ],
   "source": [
    "example = \"This is shorter than ideal length. Should I also include this line? It depends.\"\n",
    "def output(s, min_len, ideal_len, max_len):\n",
    "    s = shorten(example, min_len, ideal_len, max_len)\n",
    "    diff = len(s) - ideal_len\n",
    "    sign = '-' if diff < 0 else '+'\n",
    "    print('Output: \"{}\"\\nlen(output) = ideal_len {} {}'.format(s, sign, abs(diff)))\n",
    "\n",
    "output(example, 10, 50, 200)\n",
    "output(example, 10, 51, 200)"
   ]
  },
  {
   "cell_type": "code",
   "execution_count": 28,
   "metadata": {
    "collapsed": false
   },
   "outputs": [
    {
     "name": "stdout",
     "output_type": "stream",
     "text": [
      "What I highly recommended is creating hobbies together and exploring new \n",
      "things together.\n"
     ]
    }
   ],
   "source": [
    "example = \"\"\"What I highly recommended is creating hobbies together and exploring new \n",
    "things together. When life becomes dull and has become a stalemate routine \n",
    "then this affects communication. Take a trip to the theaters for example. \n",
    "After the movie people usually proceed to have a discussion about it \n",
    "afterwards. Couples need to have new experiences and constantly push \n",
    "themselves out of that same day to day routine, or else that routine will \n",
    "slowly kill the relationship one step at a time.\"\"\"\n",
    "\n",
    "print shorten(example, min_len=80, ideal_len=100, max_len=200)"
   ]
  },
  {
   "cell_type": "code",
   "execution_count": 29,
   "metadata": {
    "collapsed": false
   },
   "outputs": [
    {
     "name": "stdout",
     "output_type": "stream",
     "text": [
      "(80, 100, 200)\n",
      "What I highly recommended is creating hobbies together and exploring new \n",
      "things together.\n",
      "(80, 150, 200)\n",
      "What I highly recommended is creating hobbies together and exploring new \n",
      "things together. When life becomes dull and has become a stalemate routine \n",
      "then this affects communication.\n",
      "(80, 80, 200)\n",
      "What I highly recommended is creating hobbies together and exploring new \n",
      "things together.\n",
      "(80, 200, 200)\n",
      "What I highly recommended is creating hobbies together and exploring new \n",
      "things together. When life becomes dull and has become a stalemate routine \n",
      "then this affects communication.\n",
      "(80, 200, 300)\n",
      "What I highly recommended is creating hobbies together and exploring new \n",
      "things together. When life becomes dull and has become a stalemate routine \n",
      "then this affects communication.\n"
     ]
    }
   ],
   "source": [
    "def try_diff_ideal_len(s):\n",
    "    for (min_len, ideal_len, max_len) in [(80, 100, 200), \n",
    "                                          (80, 150, 200), \n",
    "                                          (80, 80, 200), \n",
    "                                          (80, 200, 200), \n",
    "                                          (80, 200, 300)]:\n",
    "        print((min_len, ideal_len, max_len))\n",
    "        print shorten(s, min_len, ideal_len, max_len)\n",
    "try_diff_ideal_len(example)"
   ]
  },
  {
   "cell_type": "code",
   "execution_count": 30,
   "metadata": {
    "collapsed": false
   },
   "outputs": [
    {
     "name": "stdout",
     "output_type": "stream",
     "text": [
      "Exmaple 1\n",
      "\n",
      "What I highly recommended is creating hobbies together and exploring new \n",
      "    things together. When life becomes dull and has become a stalemate routine \n",
      "    then this affects communication. Take a trip to the theaters for example. \n",
      "    After the movie people usually proceed to have a discussion about it \n",
      "    afterwards. Couples need to have new experiences and constantly push \n",
      "    themselves out of that same day to day routine, or else that routine will \n",
      "    slowly kill the relationship one step at a time.\n",
      "\n",
      "---\n",
      "What I highly recommended is creating hobbies together and exploring new \n",
      "    things together.\n",
      "---\n",
      "\n",
      "Exmaple 2\n",
      "\n",
      "What attributes specifically do you like about Wired or Tech Crunch that you want to carry over to a pet website? I look at http://www.dogster.com every day (but I'm a dog man myself).\n",
      "\n",
      "---\n",
      "What attributes specifically do you like about Wired or Tech Crunch that you want to carry over to a pet website?\n",
      "---\n",
      "\n",
      "Exmaple 3\n",
      "\n",
      "Absolutely! I wouldn't want to fly with an airline with a bad history. I take a lot of risks in life but I also try to minimize life and death risks when possible. :) http://www.thedailybeast.com/articles/2009/08/23/h…\n",
      "\n",
      "---\n",
      "Absolutely! I wouldn't want to fly with an airline with a bad history. I take a lot of risks in life but I also try to minimize life and death risks when possible.\n",
      "---\n",
      "\n",
      "Exmaple 4\n",
      "\n",
      "Turn to yourself. This is more about you and your self development then about this guy. He merely represents an old story, something from your youth in your subconcious- and you actually CHOSE him to replay the story. That is what we do. We chose people that replay old stories so that we can actually learn and grow.\n",
      "\n",
      "I know it's tough. Trust me. I was hung up on someone for 6 years. You can't force getting over someone and everyone will come to it on their own time. Everyone comes into our lives to teach us a lesson. It's our soul's journey.\n",
      "\n",
      "Best advice would be to look inside and figure out what it is that you are really hanging on to. He's merely acting a role. Use this as a beautiful opportunity to grow.\n",
      "\n",
      "---\n",
      "Turn to yourself. This is more about you and your self development then about this guy.\n",
      "---\n",
      "\n",
      "Exmaple 5\n",
      "\n",
      "I think it's too expensive. It seems a bit much. But if you can afford it and it makes you feel better on your special day, go for it. If you are barely making ends meet, I would say get it done by someone else.\n",
      "\n",
      "---\n",
      "I think it's too expensive. It seems a bit much. But if you can afford it and it makes you feel better on your special day,\n",
      "---\n",
      "\n"
     ]
    }
   ],
   "source": [
    "# Taken from answers on jelly.co\n",
    "\n",
    "test_cases = [\n",
    "    \"\"\"What I highly recommended is creating hobbies together and exploring new \n",
    "    things together. When life becomes dull and has become a stalemate routine \n",
    "    then this affects communication. Take a trip to the theaters for example. \n",
    "    After the movie people usually proceed to have a discussion about it \n",
    "    afterwards. Couples need to have new experiences and constantly push \n",
    "    themselves out of that same day to day routine, or else that routine will \n",
    "    slowly kill the relationship one step at a time.\"\"\",\n",
    "    \"\"\"What attributes specifically do you like about Wired or Tech Crunch that you want to carry over to a pet website? I look at http://www.dogster.com every day (but I'm a dog man myself).\"\"\",\n",
    "    \"\"\"Absolutely! I wouldn't want to fly with an airline with a bad history. I take a lot of risks in life but I also try to minimize life and death risks when possible. :) http://www.thedailybeast.com/articles/2009/08/23/h…\"\"\",\n",
    "    \"\"\"Turn to yourself. This is more about you and your self development then about this guy. He merely represents an old story, something from your youth in your subconcious- and you actually CHOSE him to replay the story. That is what we do. We chose people that replay old stories so that we can actually learn and grow.\n",
    "\n",
    "I know it's tough. Trust me. I was hung up on someone for 6 years. You can't force getting over someone and everyone will come to it on their own time. Everyone comes into our lives to teach us a lesson. It's our soul's journey.\n",
    "\n",
    "Best advice would be to look inside and figure out what it is that you are really hanging on to. He's merely acting a role. Use this as a beautiful opportunity to grow.\"\"\",\n",
    "    \"\"\"I think it's too expensive. It seems a bit much. But if you can afford it and it makes you feel better on your special day, go for it. If you are barely making ends meet, I would say get it done by someone else.\"\"\",\n",
    "]\n",
    "\n",
    "for i, s in enumerate(test_cases):\n",
    "    print(\"Exmaple {}\\n\".format(i+1))\n",
    "    print(\"{}\".format(s))\n",
    "    t = shorten(s, 80, 100, 200)\n",
    "    print(\"\\n---\\n{}\\n---\\n\".format(t))"
   ]
  },
  {
   "cell_type": "code",
   "execution_count": null,
   "metadata": {
    "collapsed": true
   },
   "outputs": [],
   "source": []
  }
 ],
 "metadata": {
  "kernelspec": {
   "display_name": "Python [conda root]",
   "language": "python",
   "name": "conda-root-py"
  },
  "language_info": {
   "codemirror_mode": {
    "name": "ipython",
    "version": 2
   },
   "file_extension": ".py",
   "mimetype": "text/x-python",
   "name": "python",
   "nbconvert_exporter": "python",
   "pygments_lexer": "ipython2",
   "version": "2.7.12"
  }
 },
 "nbformat": 4,
 "nbformat_minor": 1
}
